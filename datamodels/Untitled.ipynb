{
 "cells": [
  {
   "cell_type": "code",
   "execution_count": 1,
   "id": "b306e824",
   "metadata": {},
   "outputs": [],
   "source": [
    "import tensorflow as tf\n",
    "from tensorflow import keras"
   ]
  },
  {
   "cell_type": "code",
   "execution_count": 2,
   "id": "dcbe963d",
   "metadata": {},
   "outputs": [],
   "source": [
    "import numpy as np\n",
    "import matplotlib.pyplot as plt"
   ]
  },
  {
   "cell_type": "code",
   "execution_count": 3,
   "id": "c79103bc",
   "metadata": {},
   "outputs": [
    {
     "name": "stdout",
     "output_type": "stream",
     "text": [
      "2.6.1\n"
     ]
    }
   ],
   "source": [
    "print(tf.__version__)"
   ]
  },
  {
   "cell_type": "code",
   "execution_count": 4,
   "id": "9f2b8e72",
   "metadata": {},
   "outputs": [],
   "source": [
    "fashion_mnist = keras.datasets.fashion_mnist"
   ]
  },
  {
   "cell_type": "code",
   "execution_count": 5,
   "id": "d479c077",
   "metadata": {},
   "outputs": [],
   "source": [
    "(train_images, train_labels), (test_images, test_labels) = fashion_mnist.load_data()"
   ]
  },
  {
   "cell_type": "code",
   "execution_count": 6,
   "id": "de678b54",
   "metadata": {},
   "outputs": [],
   "source": [
    "class_names = ['T-shirt/top', 'Trouser', 'Pullover', 'Dress', 'Coat',\n",
    "   'Sandal', 'Shirt', 'Sneaker', 'Bag', 'Ankle boot'\n",
    "]"
   ]
  },
  {
   "cell_type": "code",
   "execution_count": 7,
   "id": "114bed75",
   "metadata": {},
   "outputs": [
    {
     "data": {
      "text/plain": [
       "(60000, 28, 28)"
      ]
     },
     "execution_count": 7,
     "metadata": {},
     "output_type": "execute_result"
    }
   ],
   "source": [
    "train_images.shape"
   ]
  },
  {
   "cell_type": "code",
   "execution_count": 8,
   "id": "2ea14012",
   "metadata": {},
   "outputs": [
    {
     "data": {
      "text/plain": [
       "60000"
      ]
     },
     "execution_count": 8,
     "metadata": {},
     "output_type": "execute_result"
    }
   ],
   "source": [
    "len(train_labels)"
   ]
  },
  {
   "cell_type": "code",
   "execution_count": 9,
   "id": "f17bfbc9",
   "metadata": {},
   "outputs": [
    {
     "data": {
      "text/plain": [
       "array([9, 0, 0, ..., 3, 0, 5], dtype=uint8)"
      ]
     },
     "execution_count": 9,
     "metadata": {},
     "output_type": "execute_result"
    }
   ],
   "source": [
    "train_labels"
   ]
  },
  {
   "cell_type": "code",
   "execution_count": 10,
   "id": "7aa8a251",
   "metadata": {},
   "outputs": [
    {
     "data": {
      "text/plain": [
       "(10000, 28, 28)"
      ]
     },
     "execution_count": 10,
     "metadata": {},
     "output_type": "execute_result"
    }
   ],
   "source": [
    "test_images.shape"
   ]
  },
  {
   "cell_type": "code",
   "execution_count": 11,
   "id": "9c916235",
   "metadata": {},
   "outputs": [
    {
     "data": {
      "text/plain": [
       "10000"
      ]
     },
     "execution_count": 11,
     "metadata": {},
     "output_type": "execute_result"
    }
   ],
   "source": [
    "len(test_labels)"
   ]
  },
  {
   "cell_type": "code",
   "execution_count": 12,
   "id": "40a50dd4",
   "metadata": {},
   "outputs": [
    {
     "data": {
      "image/png": "[encoded data removed]",
      "text/plain": [
       "<Figure size 432x288 with 2 Axes>"
      ]
     },
     "metadata": {
      "needs_background": "light"
     },
     "output_type": "display_data"
    }
   ],
   "source": [
    "plt.figure()\n",
    "plt.imshow(train_images[0])\n",
    "plt.colorbar()\n",
    "plt.grid(False)\n",
    "plt.show()"
   ]
  },
  {
   "cell_type": "code",
   "execution_count": 13,
   "id": "f107d667",
   "metadata": {},
   "outputs": [],
   "source": [
    "train_images = train_images / 255.0\n",
    "\n",
    "test_images = test_images / 255.0 "
   ]
  },
  {
   "cell_type": "code",
   "execution_count": 14,
   "id": "2b976857",
   "metadata": {},
   "outputs": [
    {
     "name": "stdout",
     "output_type": "stream",
     "text": [
      "9 (60000, 28, 28) (60000,) <class 'numpy.ndarray'>\n",
      "0 (60000, 28, 28) (60000,) <class 'numpy.ndarray'>\n",
      "0 (60000, 28, 28) (60000,) <class 'numpy.ndarray'>\n",
      "3 (60000, 28, 28) (60000,) <class 'numpy.ndarray'>\n",
      "0 (60000, 28, 28) (60000,) <class 'numpy.ndarray'>\n",
      "2 (60000, 28, 28) (60000,) <class 'numpy.ndarray'>\n",
      "7 (60000, 28, 28) (60000,) <class 'numpy.ndarray'>\n",
      "2 (60000, 28, 28) (60000,) <class 'numpy.ndarray'>\n",
      "5 (60000, 28, 28) (60000,) <class 'numpy.ndarray'>\n",
      "5 (60000, 28, 28) (60000,) <class 'numpy.ndarray'>\n",
      "0 (60000, 28, 28) (60000,) <class 'numpy.ndarray'>\n",
      "9 (60000, 28, 28) (60000,) <class 'numpy.ndarray'>\n",
      "5 (60000, 28, 28) (60000,) <class 'numpy.ndarray'>\n",
      "5 (60000, 28, 28) (60000,) <class 'numpy.ndarray'>\n",
      "7 (60000, 28, 28) (60000,) <class 'numpy.ndarray'>\n",
      "9 (60000, 28, 28) (60000,) <class 'numpy.ndarray'>\n",
      "1 (60000, 28, 28) (60000,) <class 'numpy.ndarray'>\n",
      "0 (60000, 28, 28) (60000,) <class 'numpy.ndarray'>\n",
      "6 (60000, 28, 28) (60000,) <class 'numpy.ndarray'>\n",
      "4 (60000, 28, 28) (60000,) <class 'numpy.ndarray'>\n",
      "3 (60000, 28, 28) (60000,) <class 'numpy.ndarray'>\n",
      "1 (60000, 28, 28) (60000,) <class 'numpy.ndarray'>\n",
      "4 (60000, 28, 28) (60000,) <class 'numpy.ndarray'>\n",
      "8 (60000, 28, 28) (60000,) <class 'numpy.ndarray'>\n",
      "4 (60000, 28, 28) (60000,) <class 'numpy.ndarray'>\n"
     ]
    },
    {
     "data": {
      "image/png": "[encoded data removed]",
      "text/plain": [
       "<Figure size 720x720 with 25 Axes>"
      ]
     },
     "metadata": {},
     "output_type": "display_data"
    }
   ],
   "source": [
    "plt.figure(figsize=(10,10))\n",
    "for i in range(25):\n",
    "    print(train_labels[i], train_images.shape, train_labels.shape, type(train_labels))\n",
    "    plt.subplot(5,5,i+1)\n",
    "    plt.xticks([])\n",
    "    plt.yticks([])\n",
    "    plt.grid(False)\n",
    "    plt.imshow(train_images[i], cmap=plt.cm.binary)\n",
    "    plt.xlabel(class_names[train_labels[i]])\n",
    "plt.show()"
   ]
  },
  {
   "cell_type": "code",
   "execution_count": 15,
   "id": "f85a229f",
   "metadata": {},
   "outputs": [],
   "source": [
    "model = tf.keras.Sequential([\n",
    "   tf.keras.layers.Flatten(input_shape = (28, 28)),\n",
    "   tf.keras.layers.Dense(128, activation = 'relu'),\n",
    "   tf.keras.layers.Dense(10)\n",
    "])"
   ]
  },
  {
   "cell_type": "code",
   "execution_count": 16,
   "id": "1bd95e6d",
   "metadata": {},
   "outputs": [],
   "source": [
    "model.compile(optimizer = 'adam',\n",
    "   loss = tf.keras.losses.SparseCategoricalCrossentropy(from_logits = True),\n",
    "   metrics = ['accuracy'])"
   ]
  },
  {
   "cell_type": "code",
   "execution_count": 17,
   "id": "27f50383",
   "metadata": {},
   "outputs": [
    {
     "name": "stdout",
     "output_type": "stream",
     "text": [
      "Epoch 1/10\n",
      "1875/1875 [==============================] - 2s 1ms/step - loss: 0.4919 - accuracy: 0.8273\n",
      "Epoch 2/10\n",
      "1875/1875 [==============================] - 2s 1ms/step - loss: 0.3736 - accuracy: 0.8659\n",
      "Epoch 3/10\n",
      "1875/1875 [==============================] - 2s 1ms/step - loss: 0.3366 - accuracy: 0.8781\n",
      "Epoch 4/10\n",
      "1875/1875 [==============================] - 2s 1ms/step - loss: 0.3123 - accuracy: 0.8849\n",
      "Epoch 5/10\n",
      "1875/1875 [==============================] - 2s 981us/step - loss: 0.2931 - accuracy: 0.8917\n",
      "Epoch 6/10\n",
      "1875/1875 [==============================] - 2s 1ms/step - loss: 0.2795 - accuracy: 0.8961\n",
      "Epoch 7/10\n",
      "1875/1875 [==============================] - 2s 913us/step - loss: 0.2657 - accuracy: 0.8998\n",
      "Epoch 8/10\n",
      "1875/1875 [==============================] - 2s 891us/step - loss: 0.2526 - accuracy: 0.9063\n",
      "Epoch 9/10\n",
      "1875/1875 [==============================] - 2s 910us/step - loss: 0.2458 - accuracy: 0.9078\n",
      "Epoch 10/10\n",
      "1875/1875 [==============================] - 2s 881us/step - loss: 0.2338 - accuracy: 0.9128\n"
     ]
    },
    {
     "data": {
      "text/plain": [
       "<keras.callbacks.History at 0x1f6c94a7f10>"
      ]
     },
     "execution_count": 17,
     "metadata": {},
     "output_type": "execute_result"
    }
   ],
   "source": [
    "model.fit(train_images, train_labels, epochs = 10)"
   ]
  },
  {
   "cell_type": "code",
   "execution_count": 18,
   "id": "e0654ab3",
   "metadata": {},
   "outputs": [
    {
     "name": "stdout",
     "output_type": "stream",
     "text": [
      "313/313 - 1s - loss: 0.3467 - accuracy: 0.8799\n",
      "\n",
      "Test accuracy: 0.8798999786376953\n"
     ]
    }
   ],
   "source": [
    "test_loss, test_acc = model.evaluate(test_images, test_labels, verbose = 2)\n",
    "\n",
    "print('\\nTest accuracy:', test_acc)"
   ]
  },
  {
   "cell_type": "code",
   "execution_count": 19,
   "id": "7fbd28cc",
   "metadata": {},
   "outputs": [],
   "source": [
    "probability_model = tf.keras.Sequential([model,\n",
    "   tf.keras.layers.Softmax()\n",
    "])"
   ]
  },
  {
   "cell_type": "code",
   "execution_count": 20,
   "id": "d81f9a84",
   "metadata": {},
   "outputs": [
    {
     "data": {
      "text/plain": [
       "array([7.2273832e-07, 3.6653985e-11, 5.8443725e-09, 7.9274677e-11,\n",
       "       4.8528830e-07, 1.2745227e-04, 3.4975548e-07, 1.8374047e-03,\n",
       "       1.1710570e-09, 9.9803358e-01], dtype=float32)"
      ]
     },
     "execution_count": 20,
     "metadata": {},
     "output_type": "execute_result"
    }
   ],
   "source": [
    "predictions = probability_model.predict(test_images)\n",
    "predictions[0]"
   ]
  },
  {
   "cell_type": "code",
   "execution_count": 21,
   "id": "c57bb5f9",
   "metadata": {},
   "outputs": [
    {
     "data": {
      "text/plain": [
       "9"
      ]
     },
     "execution_count": 21,
     "metadata": {},
     "output_type": "execute_result"
    }
   ],
   "source": [
    "np.argmax(predictions[0])"
   ]
  },
  {
   "cell_type": "code",
   "execution_count": 22,
   "id": "977bf76a",
   "metadata": {},
   "outputs": [
    {
     "data": {
      "text/plain": [
       "9"
      ]
     },
     "execution_count": 22,
     "metadata": {},
     "output_type": "execute_result"
    }
   ],
   "source": [
    "test_labels[0]"
   ]
  },
  {
   "cell_type": "code",
   "execution_count": 28,
   "id": "ee4b4018",
   "metadata": {},
   "outputs": [],
   "source": [
    "def plot_image(i, predictions_array, true_label, img):\n",
    "    predictions_array, true_label, img = predictions_array[i], true_label[i], img[i]\n",
    "    plt.grid(False)\n",
    "    plt.xticks([])\n",
    "    plt.yticks([])\n",
    "    \n",
    "    plt.imshow(img, cmap=plt.cm.binary)\n",
    "    \n",
    "    predicted_label = np.argmax(predictions_array)\n",
    "    if predicted_label == true_label:\n",
    "        color = 'blue'\n",
    "    else: \n",
    "        color = 'red'\n",
    "        \n",
    "    plt.xlabel('{} {:2.0f}% ({})'.format(\n",
    "        class_names[predicted_label],\n",
    "        100*np.max(predictions_array),\n",
    "        class_names[true_label]),\n",
    "        color=color)\n",
    "    \n",
    "def plot_value_array(i, predictions_array, true_label):\n",
    "    predictions_array, true_label = predictions_array[i], true_label[i]\n",
    "    plt.grid(False)\n",
    "    plt.xticks([])\n",
    "    plt.yticks([])\n",
    "    thisplot = plt.bar(range(10), predictions_array, color = '#777777')\n",
    "    plt.ylim([0, 1])\n",
    "    predicted_label = np.argmax(predictions_array)\n",
    "    \n",
    "    thisplot[predicted_label].set_color('red')\n",
    "    thisplot[true_label].set_color('green')\n",
    "    \n",
    "    "
   ]
  },
  {
   "cell_type": "code",
   "execution_count": 40,
   "id": "f612032d",
   "metadata": {},
   "outputs": [
    {
     "data": {
      "image/png": "[encoded data removed]",
      "text/plain": [
       "<Figure size 432x216 with 2 Axes>"
      ]
     },
     "metadata": {},
     "output_type": "display_data"
    }
   ],
   "source": [
    "i = 4\n",
    "plt.figure(figsize = (6, 3))\n",
    "plt.subplot(1, 2, 1)\n",
    "plot_image(i, predictions, test_labels, test_images)\n",
    "plt.subplot(1, 2, 2)\n",
    "plot_value_array(i, predictions, test_labels)\n",
    "plt.show()"
   ]
  },
  {
   "cell_type": "code",
   "execution_count": 31,
   "id": "28781176",
   "metadata": {},
   "outputs": [
    {
     "data": {
      "image/png": "[encoded data removed]",
      "text/plain": [
       "<Figure size 432x216 with 2 Axes>"
      ]
     },
     "metadata": {},
     "output_type": "display_data"
    }
   ],
   "source": [
    "i = 12\n",
    "plt.figure(figsize = (6, 3))\n",
    "plt.subplot(1, 2, 1)\n",
    "plot_image(i, predictions, test_labels, test_images)\n",
    "plt.subplot(1, 2, 2)\n",
    "plot_value_array(i, predictions, test_labels)\n",
    "plt.show()"
   ]
  },
  {
   "cell_type": "code",
   "execution_count": 34,
   "id": "d9d0e1ee",
   "metadata": {},
   "outputs": [
    {
     "data": {
      "image/png": "[encoded data removed]",
      "text/plain": [
       "<Figure size 864x720 with 30 Axes>"
      ]
     },
     "metadata": {},
     "output_type": "display_data"
    }
   ],
   "source": [
    "num_rows = 5\n",
    "num_cols = 3\n",
    "num_images = num_rows * num_cols\n",
    "plt.figure(figsize = (2 * 2 * num_cols, 2 * num_rows))\n",
    "for i in range(num_images):\n",
    "    plt.subplot(num_rows, 2 * num_cols, 2 * i + 1)\n",
    "    plot_image(i, predictions, test_labels, test_images)\n",
    "    plt.subplot(num_rows, 2 * num_cols, 2 * i + 2)\n",
    "    plot_value_array(i, predictions, test_labels)\n",
    "plt.show()"
   ]
  },
  {
   "cell_type": "code",
   "execution_count": 36,
   "id": "a2a3a253",
   "metadata": {},
   "outputs": [
    {
     "name": "stdout",
     "output_type": "stream",
     "text": [
      "(28, 28)\n"
     ]
    }
   ],
   "source": [
    "img = test_images[0]\n",
    "print(img.shape)"
   ]
  },
  {
   "cell_type": "code",
   "execution_count": 37,
   "id": "01f3aeae",
   "metadata": {},
   "outputs": [
    {
     "name": "stdout",
     "output_type": "stream",
     "text": [
      "(1, 28, 28)\n"
     ]
    }
   ],
   "source": [
    "img = (np.expand_dims(img,0))\n",
    "print(img.shape)"
   ]
  },
  {
   "cell_type": "code",
   "execution_count": 38,
   "id": "e3bbfd1c",
   "metadata": {},
   "outputs": [
    {
     "name": "stdout",
     "output_type": "stream",
     "text": [
      "[[ -7.3002377 -17.189514  -12.117807  -16.418123   -7.698544   -2.1277897\n",
      "   -8.026052    0.5405778 -13.725379    6.838011 ]]\n"
     ]
    }
   ],
   "source": [
    "predictions_single = model.predict(img)\n",
    "\n",
    "print(predictions_single)"
   ]
  },
  {
   "cell_type": "code",
   "execution_count": 39,
   "id": "c5a985c8",
   "metadata": {},
   "outputs": [
    {
     "data": {
      "text/plain": [
       "([<matplotlib.axis.XTick at 0x1f6c910cfd0>,\n",
       "  <matplotlib.axis.XTick at 0x1f6c910c460>,\n",
       "  <matplotlib.axis.XTick at 0x1f6c918be20>,\n",
       "  <matplotlib.axis.XTick at 0x1f6cabaf130>,\n",
       "  <matplotlib.axis.XTick at 0x1f6c96fad60>,\n",
       "  <matplotlib.axis.XTick at 0x1f6c96fa700>,\n",
       "  <matplotlib.axis.XTick at 0x1f6c96eefd0>,\n",
       "  <matplotlib.axis.XTick at 0x1f6c9430250>,\n",
       "  <matplotlib.axis.XTick at 0x1f6c96fa0a0>,\n",
       "  <matplotlib.axis.XTick at 0x1f6c94300a0>],\n",
       " [Text(0, 0, 'T-shirt/top'),\n",
       "  Text(1, 0, 'Trouser'),\n",
       "  Text(2, 0, 'Pullover'),\n",
       "  Text(3, 0, 'Dress'),\n",
       "  Text(4, 0, 'Coat'),\n",
       "  Text(5, 0, 'Sandal'),\n",
       "  Text(6, 0, 'Shirt'),\n",
       "  Text(7, 0, 'Sneaker'),\n",
       "  Text(8, 0, 'Bag'),\n",
       "  Text(9, 0, 'Ankle boot')],\n",
       " [<matplotlib.axis.XTick at 0x1f6c910cfd0>,\n",
       "  <matplotlib.axis.XTick at 0x1f6c910c460>,\n",
       "  <matplotlib.axis.XTick at 0x1f6c918be20>,\n",
       "  <matplotlib.axis.XTick at 0x1f6cabaf130>,\n",
       "  <matplotlib.axis.XTick at 0x1f6c96fad60>,\n",
       "  <matplotlib.axis.XTick at 0x1f6c96fa700>,\n",
       "  <matplotlib.axis.XTick at 0x1f6c96eefd0>,\n",
       "  <matplotlib.axis.XTick at 0x1f6c9430250>,\n",
       "  <matplotlib.axis.XTick at 0x1f6c96fa0a0>,\n",
       "  <matplotlib.axis.XTick at 0x1f6c94300a0>],\n",
       " [Text(0, 0, 'T-shirt/top'),\n",
       "  Text(1, 0, 'Trouser'),\n",
       "  Text(2, 0, 'Pullover'),\n",
       "  Text(3, 0, 'Dress'),\n",
       "  Text(4, 0, 'Coat'),\n",
       "  Text(5, 0, 'Sandal'),\n",
       "  Text(6, 0, 'Shirt'),\n",
       "  Text(7, 0, 'Sneaker'),\n",
       "  Text(8, 0, 'Bag'),\n",
       "  Text(9, 0, 'Ankle boot')],\n",
       " [<matplotlib.axis.XTick at 0x1f6c910cfd0>,\n",
       "  <matplotlib.axis.XTick at 0x1f6c910c460>,\n",
       "  <matplotlib.axis.XTick at 0x1f6c918be20>,\n",
       "  <matplotlib.axis.XTick at 0x1f6cabaf130>,\n",
       "  <matplotlib.axis.XTick at 0x1f6c96fad60>,\n",
       "  <matplotlib.axis.XTick at 0x1f6c96fa700>,\n",
       "  <matplotlib.axis.XTick at 0x1f6c96eefd0>,\n",
       "  <matplotlib.axis.XTick at 0x1f6c9430250>,\n",
       "  <matplotlib.axis.XTick at 0x1f6c96fa0a0>,\n",
       "  <matplotlib.axis.XTick at 0x1f6c94300a0>],\n",
       " [Text(0, 0, 'T-shirt/top'),\n",
       "  Text(1, 0, 'Trouser'),\n",
       "  Text(2, 0, 'Pullover'),\n",
       "  Text(3, 0, 'Dress'),\n",
       "  Text(4, 0, 'Coat'),\n",
       "  Text(5, 0, 'Sandal'),\n",
       "  Text(6, 0, 'Shirt'),\n",
       "  Text(7, 0, 'Sneaker'),\n",
       "  Text(8, 0, 'Bag'),\n",
       "  Text(9, 0, 'Ankle boot')],\n",
       " [<matplotlib.axis.XTick at 0x1f6c910cfd0>,\n",
       "  <matplotlib.axis.XTick at 0x1f6c910c460>,\n",
       "  <matplotlib.axis.XTick at 0x1f6c918be20>,\n",
       "  <matplotlib.axis.XTick at 0x1f6cabaf130>,\n",
       "  <matplotlib.axis.XTick at 0x1f6c96fad60>,\n",
       "  <matplotlib.axis.XTick at 0x1f6c96fa700>,\n",
       "  <matplotlib.axis.XTick at 0x1f6c96eefd0>,\n",
       "  <matplotlib.axis.XTick at 0x1f6c9430250>,\n",
       "  <matplotlib.axis.XTick at 0x1f6c96fa0a0>,\n",
       "  <matplotlib.axis.XTick at 0x1f6c94300a0>],\n",
       " [Text(0, 0, 'T-shirt/top'),\n",
       "  Text(1, 0, 'Trouser'),\n",
       "  Text(2, 0, 'Pullover'),\n",
       "  Text(3, 0, 'Dress'),\n",
       "  Text(4, 0, 'Coat'),\n",
       "  Text(5, 0, 'Sandal'),\n",
       "  Text(6, 0, 'Shirt'),\n",
       "  Text(7, 0, 'Sneaker'),\n",
       "  Text(8, 0, 'Bag'),\n",
       "  Text(9, 0, 'Ankle boot')],\n",
       " [<matplotlib.axis.XTick at 0x1f6c910cfd0>,\n",
       "  <matplotlib.axis.XTick at 0x1f6c910c460>,\n",
       "  <matplotlib.axis.XTick at 0x1f6c918be20>,\n",
       "  <matplotlib.axis.XTick at 0x1f6cabaf130>,\n",
       "  <matplotlib.axis.XTick at 0x1f6c96fad60>,\n",
       "  <matplotlib.axis.XTick at 0x1f6c96fa700>,\n",
       "  <matplotlib.axis.XTick at 0x1f6c96eefd0>,\n",
       "  <matplotlib.axis.XTick at 0x1f6c9430250>,\n",
       "  <matplotlib.axis.XTick at 0x1f6c96fa0a0>,\n",
       "  <matplotlib.axis.XTick at 0x1f6c94300a0>],\n",
       " [Text(0, 0, 'T-shirt/top'),\n",
       "  Text(1, 0, 'Trouser'),\n",
       "  Text(2, 0, 'Pullover'),\n",
       "  Text(3, 0, 'Dress'),\n",
       "  Text(4, 0, 'Coat'),\n",
       "  Text(5, 0, 'Sandal'),\n",
       "  Text(6, 0, 'Shirt'),\n",
       "  Text(7, 0, 'Sneaker'),\n",
       "  Text(8, 0, 'Bag'),\n",
       "  Text(9, 0, 'Ankle boot')],\n",
       " [<matplotlib.axis.XTick at 0x1f6c910cfd0>,\n",
       "  <matplotlib.axis.XTick at 0x1f6c910c460>,\n",
       "  <matplotlib.axis.XTick at 0x1f6c918be20>,\n",
       "  <matplotlib.axis.XTick at 0x1f6cabaf130>,\n",
       "  <matplotlib.axis.XTick at 0x1f6c96fad60>,\n",
       "  <matplotlib.axis.XTick at 0x1f6c96fa700>,\n",
       "  <matplotlib.axis.XTick at 0x1f6c96eefd0>,\n",
       "  <matplotlib.axis.XTick at 0x1f6c9430250>,\n",
       "  <matplotlib.axis.XTick at 0x1f6c96fa0a0>,\n",
       "  <matplotlib.axis.XTick at 0x1f6c94300a0>],\n",
       " [Text(0, 0, 'T-shirt/top'),\n",
       "  Text(1, 0, 'Trouser'),\n",
       "  Text(2, 0, 'Pullover'),\n",
       "  Text(3, 0, 'Dress'),\n",
       "  Text(4, 0, 'Coat'),\n",
       "  Text(5, 0, 'Sandal'),\n",
       "  Text(6, 0, 'Shirt'),\n",
       "  Text(7, 0, 'Sneaker'),\n",
       "  Text(8, 0, 'Bag'),\n",
       "  Text(9, 0, 'Ankle boot')],\n",
       " [<matplotlib.axis.XTick at 0x1f6c910cfd0>,\n",
       "  <matplotlib.axis.XTick at 0x1f6c910c460>,\n",
       "  <matplotlib.axis.XTick at 0x1f6c918be20>,\n",
       "  <matplotlib.axis.XTick at 0x1f6cabaf130>,\n",
       "  <matplotlib.axis.XTick at 0x1f6c96fad60>,\n",
       "  <matplotlib.axis.XTick at 0x1f6c96fa700>,\n",
       "  <matplotlib.axis.XTick at 0x1f6c96eefd0>,\n",
       "  <matplotlib.axis.XTick at 0x1f6c9430250>,\n",
       "  <matplotlib.axis.XTick at 0x1f6c96fa0a0>,\n",
       "  <matplotlib.axis.XTick at 0x1f6c94300a0>],\n",
       " [Text(0, 0, 'T-shirt/top'),\n",
       "  Text(1, 0, 'Trouser'),\n",
       "  Text(2, 0, 'Pullover'),\n",
       "  Text(3, 0, 'Dress'),\n",
       "  Text(4, 0, 'Coat'),\n",
       "  Text(5, 0, 'Sandal'),\n",
       "  Text(6, 0, 'Shirt'),\n",
       "  Text(7, 0, 'Sneaker'),\n",
       "  Text(8, 0, 'Bag'),\n",
       "  Text(9, 0, 'Ankle boot')],\n",
       " [<matplotlib.axis.XTick at 0x1f6c910cfd0>,\n",
       "  <matplotlib.axis.XTick at 0x1f6c910c460>,\n",
       "  <matplotlib.axis.XTick at 0x1f6c918be20>,\n",
       "  <matplotlib.axis.XTick at 0x1f6cabaf130>,\n",
       "  <matplotlib.axis.XTick at 0x1f6c96fad60>,\n",
       "  <matplotlib.axis.XTick at 0x1f6c96fa700>,\n",
       "  <matplotlib.axis.XTick at 0x1f6c96eefd0>,\n",
       "  <matplotlib.axis.XTick at 0x1f6c9430250>,\n",
       "  <matplotlib.axis.XTick at 0x1f6c96fa0a0>,\n",
       "  <matplotlib.axis.XTick at 0x1f6c94300a0>],\n",
       " [Text(0, 0, 'T-shirt/top'),\n",
       "  Text(1, 0, 'Trouser'),\n",
       "  Text(2, 0, 'Pullover'),\n",
       "  Text(3, 0, 'Dress'),\n",
       "  Text(4, 0, 'Coat'),\n",
       "  Text(5, 0, 'Sandal'),\n",
       "  Text(6, 0, 'Shirt'),\n",
       "  Text(7, 0, 'Sneaker'),\n",
       "  Text(8, 0, 'Bag'),\n",
       "  Text(9, 0, 'Ankle boot')],\n",
       " [<matplotlib.axis.XTick at 0x1f6c910cfd0>,\n",
       "  <matplotlib.axis.XTick at 0x1f6c910c460>,\n",
       "  <matplotlib.axis.XTick at 0x1f6c918be20>,\n",
       "  <matplotlib.axis.XTick at 0x1f6cabaf130>,\n",
       "  <matplotlib.axis.XTick at 0x1f6c96fad60>,\n",
       "  <matplotlib.axis.XTick at 0x1f6c96fa700>,\n",
       "  <matplotlib.axis.XTick at 0x1f6c96eefd0>,\n",
       "  <matplotlib.axis.XTick at 0x1f6c9430250>,\n",
       "  <matplotlib.axis.XTick at 0x1f6c96fa0a0>,\n",
       "  <matplotlib.axis.XTick at 0x1f6c94300a0>],\n",
       " [Text(0, 0, 'T-shirt/top'),\n",
       "  Text(1, 0, 'Trouser'),\n",
       "  Text(2, 0, 'Pullover'),\n",
       "  Text(3, 0, 'Dress'),\n",
       "  Text(4, 0, 'Coat'),\n",
       "  Text(5, 0, 'Sandal'),\n",
       "  Text(6, 0, 'Shirt'),\n",
       "  Text(7, 0, 'Sneaker'),\n",
       "  Text(8, 0, 'Bag'),\n",
       "  Text(9, 0, 'Ankle boot')])"
      ]
     },
     "execution_count": 39,
     "metadata": {},
     "output_type": "execute_result"
    },
    {
     "data": {
      "image/png": "[encoded data removed]",
      "text/plain": [
       "<Figure size 432x288 with 1 Axes>"
      ]
     },
     "metadata": {
      "needs_background": "light"
     },
     "output_type": "display_data"
    }
   ],
   "source": [
    "plot_value_array(0, predictions_single, test_labels)\n",
    "_ * plt.xticks(range(10), class_names, rotation=45)"
   ]
  },
  {
   "cell_type": "code",
   "execution_count": null,
   "id": "c0677508",
   "metadata": {},
   "outputs": [],
   "source": []
  }
 ],
 "metadata": {
  "kernelspec": {
   "display_name": "Python 3",
   "language": "python",
   "name": "python3"
  },
  "language_info": {
   "codemirror_mode": {
    "name": "ipython",
    "version": 3
   },
   "file_extension": ".py",
   "mimetype": "text/x-python",
   "name": "python",
   "nbconvert_exporter": "python",
   "pygments_lexer": "ipython3",
   "version": "3.8.8"
  }
 },
 "nbformat": 4,
 "nbformat_minor": 5
}
